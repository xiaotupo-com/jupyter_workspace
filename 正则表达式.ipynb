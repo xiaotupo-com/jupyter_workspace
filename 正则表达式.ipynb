{
 "cells": [
  {
   "cell_type": "code",
   "execution_count": 10,
   "id": "74833367-8dbf-411c-ac75-91bd657a85f2",
   "metadata": {},
   "outputs": [
    {
     "name": "stdout",
     "output_type": "stream",
     "text": [
      "True\n"
     ]
    }
   ],
   "source": [
    "import re\n",
    "\n",
    "# ua = \"Mozilla/5.0 (Windows NT 10.0; Win64; x64) AppleWebKit/537.36 ...\"\n",
    "ua = \"Mozilla/5.0 (Linux;) AppleWebKit/537.36 ...\"\n",
    "pattern = r\"linux\"  # 正则表达式（原始字符串避免转义问题）\n",
    "\n",
    "isWindows = bool(re.search(pattern, ua, flags=re.IGNORECASE)) # flags=re.IGNORECASE 指定忽略大小写\n",
    "\n",
    "print(isWindows)\n"
   ]
  },
  {
   "cell_type": "code",
   "execution_count": 14,
   "id": "2ebaed62-b769-4e1a-b62e-7680dd0ccb5e",
   "metadata": {},
   "outputs": [
    {
     "name": "stdout",
     "output_type": "stream",
     "text": [
      "0.3000000000000000166533453694\n"
     ]
    }
   ],
   "source": [
    "from decimal import Decimal\n",
    "\n",
    "a = Decimal(0.1)\n",
    "b = Decimal(0.2)\n",
    "# c = a + b\n",
    "print(a + b)\n"
   ]
  },
  {
   "cell_type": "code",
   "execution_count": null,
   "id": "fc9d889e-cefb-400f-a3e5-4f907a6e40eb",
   "metadata": {},
   "outputs": [],
   "source": []
  },
  {
   "cell_type": "code",
   "execution_count": null,
   "id": "d6b0b7f3-6cfa-4a8f-9242-dd891d1a9bff",
   "metadata": {},
   "outputs": [],
   "source": []
  },
  {
   "cell_type": "code",
   "execution_count": null,
   "id": "937b8ebe-5002-46d6-a200-3ba42a76cd12",
   "metadata": {},
   "outputs": [],
   "source": []
  },
  {
   "cell_type": "code",
   "execution_count": null,
   "id": "72fb2013-342a-4521-ad58-dce70768b292",
   "metadata": {},
   "outputs": [],
   "source": []
  }
 ],
 "metadata": {
  "kernelspec": {
   "display_name": "Python 3 (ipykernel)",
   "language": "python",
   "name": "python3"
  },
  "language_info": {
   "codemirror_mode": {
    "name": "ipython",
    "version": 3
   },
   "file_extension": ".py",
   "mimetype": "text/x-python",
   "name": "python",
   "nbconvert_exporter": "python",
   "pygments_lexer": "ipython3",
   "version": "3.12.3"
  }
 },
 "nbformat": 4,
 "nbformat_minor": 5
}
